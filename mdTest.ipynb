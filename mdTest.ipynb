{
 "cells": [
  {
   "cell_type": "code",
   "execution_count": 6,
   "metadata": {},
   "outputs": [
    {
     "name": "stdout",
     "output_type": "stream",
     "text": [
      "Conversión a PDF completada con éxito.\n"
     ]
    }
   ],
   "source": [
    "from createPDFfromMDClass import MarkdownToPDFConverter\n",
    "\n",
    "input_text = \"# Título\\n\\nEste es un ejemplo de texto en Markdown.\"\n",
    "\n",
    "pdf = MarkdownToPDFConverter(input_text, \"output.pdf\")\n",
    "pdf.convertir_a_pdf()"
   ]
  }
 ],
 "metadata": {
  "kernelspec": {
   "display_name": "stredis",
   "language": "python",
   "name": "python3"
  },
  "language_info": {
   "codemirror_mode": {
    "name": "ipython",
    "version": 3
   },
   "file_extension": ".py",
   "mimetype": "text/x-python",
   "name": "python",
   "nbconvert_exporter": "python",
   "pygments_lexer": "ipython3",
   "version": "3.12.4"
  }
 },
 "nbformat": 4,
 "nbformat_minor": 2
}
