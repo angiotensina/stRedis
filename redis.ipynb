{
 "cells": [
  {
   "cell_type": "code",
   "execution_count": 19,
   "metadata": {},
   "outputs": [],
   "source": [
    "import redis\n",
    "\n",
    "r = redis.Redis(host='localhost', port=6377, decode_responses=True)"
   ]
  },
  {
   "cell_type": "code",
   "execution_count": 1,
   "metadata": {},
   "outputs": [
    {
     "ename": "NameError",
     "evalue": "name 'r' is not defined",
     "output_type": "error",
     "traceback": [
      "\u001b[0;31m---------------------------------------------------------------------------\u001b[0m",
      "\u001b[0;31mNameError\u001b[0m                                 Traceback (most recent call last)",
      "Cell \u001b[0;32mIn[1], line 1\u001b[0m\n\u001b[0;32m----> 1\u001b[0m \u001b[43mr\u001b[49m\u001b[38;5;241m.\u001b[39mset(\u001b[38;5;124m'\u001b[39m\u001b[38;5;124mfoo\u001b[39m\u001b[38;5;124m'\u001b[39m, \u001b[38;5;124m'\u001b[39m\u001b[38;5;124mbar\u001b[39m\u001b[38;5;124m'\u001b[39m)\n\u001b[1;32m      2\u001b[0m \u001b[38;5;66;03m# True\u001b[39;00m\n\u001b[1;32m      3\u001b[0m r\u001b[38;5;241m.\u001b[39mget(\u001b[38;5;124m'\u001b[39m\u001b[38;5;124mfoo\u001b[39m\u001b[38;5;124m'\u001b[39m)\n",
      "\u001b[0;31mNameError\u001b[0m: name 'r' is not defined"
     ]
    }
   ],
   "source": [
    "\n",
    "r.set('foo', 'bar')\n",
    "# True\n",
    "r.get('foo')\n",
    "# bar"
   ]
  },
  {
   "cell_type": "code",
   "execution_count": 14,
   "metadata": {},
   "outputs": [],
   "source": [
    "import redis\n",
    "import json\n",
    "\n",
    "# Conexión a Redis\n",
    "r = redis.Redis(host='localhost', port=6377, db=0)\n",
    "\n",
    "# Obtener todas las claves que coincidan con el patrón 'coleccion_*'\n",
    "claves = r.keys('coleccion_*')\n",
    "\n",
    "# Leer y deserializar cada colección\n",
    "colecciones = {}\n",
    "for clave in claves:\n",
    "    coleccion = json.loads(r.get(clave))\n",
    "    colecciones[clave.decode('utf-8')] = coleccion\n",
    "\n",
    "# Imprimir todas las colecciones\n",
    "for clave, coleccion in colecciones.items():\n",
    "    print(f'{clave}: {coleccion}')"
   ]
  },
  {
   "cell_type": "code",
   "execution_count": 26,
   "metadata": {},
   "outputs": [
    {
     "data": {
      "text/plain": [
       "'new-bar'"
      ]
     },
     "execution_count": 26,
     "metadata": {},
     "output_type": "execute_result"
    }
   ],
   "source": [
    "r.get('foo')"
   ]
  },
  {
   "cell_type": "code",
   "execution_count": 32,
   "metadata": {},
   "outputs": [
    {
     "name": "stdout",
     "output_type": "stream",
     "text": [
      "Clave: b'2024-08-19:DB_BRUKINSA:Col_Zanubrutinib_17_content', Valor: b'assistant\\nEn el contexto de linfoma de la zona marginal tipo MALT, la tasa de respuesta global (TRG) al tratamiento con zanubrutinib seg\\xc3\\xban el estudio MAGNOLIA (BGB-3111-214) fue del 68% (con un intervalo de confianza del 95% de 55.6 a 79.1). Dentro de esta tasa de respuesta global, el 26% de los pacientes lograron una respuesta completa (RC) y el 42% una respuesta parcial (RP). Estos resultados fueron evaluados por un comit\\xc3\\xa9 de revisi\\xc3\\xb3n independiente.\\n\\nEs importante destacar que estos datos son espec\\xc3\\xadficos para pacientes con linfoma de la zona marginal (LZM) y pueden variar dependiendo de factores individuales del paciente y las caracter\\xc3\\xadsticas espec\\xc3\\xadficas de su enfermedad.\\n\\nPara obtener una evaluaci\\xc3\\xb3n m\\xc3\\xa1s detallada y personalizada, siempre se recomienda consultar con un especialista en hematolog\\xc3\\xada o oncolog\\xc3\\xada.'\n",
      "Clave: b'PARKINSON:UPTODATE:2024_0_content', Valor: b'tratamiento del parkinson'\n",
      "Clave: b'2024-08-19:DB_BRUKINSA:Col_Zanubrutinib_8_content', Valor: b'user\\npuede usarse sin haber usado previamente una terapia anti-CD20'\n",
      "Clave: b'2024-08-19:DB_BRUKINSA:Col_Zanubrutinib_14_content', Valor: b'user\\ncuanto tiempo se debe mantener el tratamiento'\n"
     ]
    },
    {
     "ename": "ResponseError",
     "evalue": "WRONGTYPE Operation against a key holding the wrong kind of value",
     "output_type": "error",
     "traceback": [
      "\u001b[0;31m---------------------------------------------------------------------------\u001b[0m",
      "\u001b[0;31mResponseError\u001b[0m                             Traceback (most recent call last)",
      "Cell \u001b[0;32mIn[32], line 11\u001b[0m\n\u001b[1;32m      9\u001b[0m cursor, keys \u001b[38;5;241m=\u001b[39m r\u001b[38;5;241m.\u001b[39mscan(cursor\u001b[38;5;241m=\u001b[39mcursor)\n\u001b[1;32m     10\u001b[0m \u001b[38;5;28;01mfor\u001b[39;00m key \u001b[38;5;129;01min\u001b[39;00m keys:\n\u001b[0;32m---> 11\u001b[0m     value \u001b[38;5;241m=\u001b[39m \u001b[43mr\u001b[49m\u001b[38;5;241;43m.\u001b[39;49m\u001b[43mget\u001b[49m\u001b[43m(\u001b[49m\u001b[43mkey\u001b[49m\u001b[43m)\u001b[49m\n\u001b[1;32m     12\u001b[0m     \u001b[38;5;28mprint\u001b[39m(\u001b[38;5;124mf\u001b[39m\u001b[38;5;124m\"\u001b[39m\u001b[38;5;124mClave: \u001b[39m\u001b[38;5;132;01m{\u001b[39;00mkey\u001b[38;5;132;01m}\u001b[39;00m\u001b[38;5;124m, Valor: \u001b[39m\u001b[38;5;132;01m{\u001b[39;00mvalue\u001b[38;5;132;01m}\u001b[39;00m\u001b[38;5;124m\"\u001b[39m)\n",
      "File \u001b[0;32m~/Desktop/stRedisRAG/stredis/lib/python3.12/site-packages/redis/commands/core.py:1821\u001b[0m, in \u001b[0;36mBasicKeyCommands.get\u001b[0;34m(self, name)\u001b[0m\n\u001b[1;32m   1815\u001b[0m \u001b[38;5;28;01mdef\u001b[39;00m \u001b[38;5;21mget\u001b[39m(\u001b[38;5;28mself\u001b[39m, name: KeyT) \u001b[38;5;241m-\u001b[39m\u001b[38;5;241m>\u001b[39m ResponseT:\n\u001b[1;32m   1816\u001b[0m \u001b[38;5;250m    \u001b[39m\u001b[38;5;124;03m\"\"\"\u001b[39;00m\n\u001b[1;32m   1817\u001b[0m \u001b[38;5;124;03m    Return the value at key ``name``, or None if the key doesn't exist\u001b[39;00m\n\u001b[1;32m   1818\u001b[0m \n\u001b[1;32m   1819\u001b[0m \u001b[38;5;124;03m    For more information see https://redis.io/commands/get\u001b[39;00m\n\u001b[1;32m   1820\u001b[0m \u001b[38;5;124;03m    \"\"\"\u001b[39;00m\n\u001b[0;32m-> 1821\u001b[0m     \u001b[38;5;28;01mreturn\u001b[39;00m \u001b[38;5;28;43mself\u001b[39;49m\u001b[38;5;241;43m.\u001b[39;49m\u001b[43mexecute_command\u001b[49m\u001b[43m(\u001b[49m\u001b[38;5;124;43m\"\u001b[39;49m\u001b[38;5;124;43mGET\u001b[39;49m\u001b[38;5;124;43m\"\u001b[39;49m\u001b[43m,\u001b[49m\u001b[43m \u001b[49m\u001b[43mname\u001b[49m\u001b[43m)\u001b[49m\n",
      "File \u001b[0;32m~/Desktop/stRedisRAG/stredis/lib/python3.12/site-packages/redis/client.py:548\u001b[0m, in \u001b[0;36mRedis.execute_command\u001b[0;34m(self, *args, **options)\u001b[0m\n\u001b[1;32m    545\u001b[0m conn \u001b[38;5;241m=\u001b[39m \u001b[38;5;28mself\u001b[39m\u001b[38;5;241m.\u001b[39mconnection \u001b[38;5;129;01mor\u001b[39;00m pool\u001b[38;5;241m.\u001b[39mget_connection(command_name, \u001b[38;5;241m*\u001b[39m\u001b[38;5;241m*\u001b[39moptions)\n\u001b[1;32m    547\u001b[0m \u001b[38;5;28;01mtry\u001b[39;00m:\n\u001b[0;32m--> 548\u001b[0m     \u001b[38;5;28;01mreturn\u001b[39;00m \u001b[43mconn\u001b[49m\u001b[38;5;241;43m.\u001b[39;49m\u001b[43mretry\u001b[49m\u001b[38;5;241;43m.\u001b[39;49m\u001b[43mcall_with_retry\u001b[49m\u001b[43m(\u001b[49m\n\u001b[1;32m    549\u001b[0m \u001b[43m        \u001b[49m\u001b[38;5;28;43;01mlambda\u001b[39;49;00m\u001b[43m:\u001b[49m\u001b[43m \u001b[49m\u001b[38;5;28;43mself\u001b[39;49m\u001b[38;5;241;43m.\u001b[39;49m\u001b[43m_send_command_parse_response\u001b[49m\u001b[43m(\u001b[49m\n\u001b[1;32m    550\u001b[0m \u001b[43m            \u001b[49m\u001b[43mconn\u001b[49m\u001b[43m,\u001b[49m\u001b[43m \u001b[49m\u001b[43mcommand_name\u001b[49m\u001b[43m,\u001b[49m\u001b[43m \u001b[49m\u001b[38;5;241;43m*\u001b[39;49m\u001b[43margs\u001b[49m\u001b[43m,\u001b[49m\u001b[43m \u001b[49m\u001b[38;5;241;43m*\u001b[39;49m\u001b[38;5;241;43m*\u001b[39;49m\u001b[43moptions\u001b[49m\n\u001b[1;32m    551\u001b[0m \u001b[43m        \u001b[49m\u001b[43m)\u001b[49m\u001b[43m,\u001b[49m\n\u001b[1;32m    552\u001b[0m \u001b[43m        \u001b[49m\u001b[38;5;28;43;01mlambda\u001b[39;49;00m\u001b[43m \u001b[49m\u001b[43merror\u001b[49m\u001b[43m:\u001b[49m\u001b[43m \u001b[49m\u001b[38;5;28;43mself\u001b[39;49m\u001b[38;5;241;43m.\u001b[39;49m\u001b[43m_disconnect_raise\u001b[49m\u001b[43m(\u001b[49m\u001b[43mconn\u001b[49m\u001b[43m,\u001b[49m\u001b[43m \u001b[49m\u001b[43merror\u001b[49m\u001b[43m)\u001b[49m\u001b[43m,\u001b[49m\n\u001b[1;32m    553\u001b[0m \u001b[43m    \u001b[49m\u001b[43m)\u001b[49m\n\u001b[1;32m    554\u001b[0m \u001b[38;5;28;01mfinally\u001b[39;00m:\n\u001b[1;32m    555\u001b[0m     \u001b[38;5;28;01mif\u001b[39;00m \u001b[38;5;129;01mnot\u001b[39;00m \u001b[38;5;28mself\u001b[39m\u001b[38;5;241m.\u001b[39mconnection:\n",
      "File \u001b[0;32m~/Desktop/stRedisRAG/stredis/lib/python3.12/site-packages/redis/retry.py:62\u001b[0m, in \u001b[0;36mRetry.call_with_retry\u001b[0;34m(self, do, fail)\u001b[0m\n\u001b[1;32m     60\u001b[0m \u001b[38;5;28;01mwhile\u001b[39;00m \u001b[38;5;28;01mTrue\u001b[39;00m:\n\u001b[1;32m     61\u001b[0m     \u001b[38;5;28;01mtry\u001b[39;00m:\n\u001b[0;32m---> 62\u001b[0m         \u001b[38;5;28;01mreturn\u001b[39;00m \u001b[43mdo\u001b[49m\u001b[43m(\u001b[49m\u001b[43m)\u001b[49m\n\u001b[1;32m     63\u001b[0m     \u001b[38;5;28;01mexcept\u001b[39;00m \u001b[38;5;28mself\u001b[39m\u001b[38;5;241m.\u001b[39m_supported_errors \u001b[38;5;28;01mas\u001b[39;00m error:\n\u001b[1;32m     64\u001b[0m         failures \u001b[38;5;241m+\u001b[39m\u001b[38;5;241m=\u001b[39m \u001b[38;5;241m1\u001b[39m\n",
      "File \u001b[0;32m~/Desktop/stRedisRAG/stredis/lib/python3.12/site-packages/redis/client.py:549\u001b[0m, in \u001b[0;36mRedis.execute_command.<locals>.<lambda>\u001b[0;34m()\u001b[0m\n\u001b[1;32m    545\u001b[0m conn \u001b[38;5;241m=\u001b[39m \u001b[38;5;28mself\u001b[39m\u001b[38;5;241m.\u001b[39mconnection \u001b[38;5;129;01mor\u001b[39;00m pool\u001b[38;5;241m.\u001b[39mget_connection(command_name, \u001b[38;5;241m*\u001b[39m\u001b[38;5;241m*\u001b[39moptions)\n\u001b[1;32m    547\u001b[0m \u001b[38;5;28;01mtry\u001b[39;00m:\n\u001b[1;32m    548\u001b[0m     \u001b[38;5;28;01mreturn\u001b[39;00m conn\u001b[38;5;241m.\u001b[39mretry\u001b[38;5;241m.\u001b[39mcall_with_retry(\n\u001b[0;32m--> 549\u001b[0m         \u001b[38;5;28;01mlambda\u001b[39;00m: \u001b[38;5;28;43mself\u001b[39;49m\u001b[38;5;241;43m.\u001b[39;49m\u001b[43m_send_command_parse_response\u001b[49m\u001b[43m(\u001b[49m\n\u001b[1;32m    550\u001b[0m \u001b[43m            \u001b[49m\u001b[43mconn\u001b[49m\u001b[43m,\u001b[49m\u001b[43m \u001b[49m\u001b[43mcommand_name\u001b[49m\u001b[43m,\u001b[49m\u001b[43m \u001b[49m\u001b[38;5;241;43m*\u001b[39;49m\u001b[43margs\u001b[49m\u001b[43m,\u001b[49m\u001b[43m \u001b[49m\u001b[38;5;241;43m*\u001b[39;49m\u001b[38;5;241;43m*\u001b[39;49m\u001b[43moptions\u001b[49m\n\u001b[1;32m    551\u001b[0m \u001b[43m        \u001b[49m\u001b[43m)\u001b[49m,\n\u001b[1;32m    552\u001b[0m         \u001b[38;5;28;01mlambda\u001b[39;00m error: \u001b[38;5;28mself\u001b[39m\u001b[38;5;241m.\u001b[39m_disconnect_raise(conn, error),\n\u001b[1;32m    553\u001b[0m     )\n\u001b[1;32m    554\u001b[0m \u001b[38;5;28;01mfinally\u001b[39;00m:\n\u001b[1;32m    555\u001b[0m     \u001b[38;5;28;01mif\u001b[39;00m \u001b[38;5;129;01mnot\u001b[39;00m \u001b[38;5;28mself\u001b[39m\u001b[38;5;241m.\u001b[39mconnection:\n",
      "File \u001b[0;32m~/Desktop/stRedisRAG/stredis/lib/python3.12/site-packages/redis/client.py:525\u001b[0m, in \u001b[0;36mRedis._send_command_parse_response\u001b[0;34m(self, conn, command_name, *args, **options)\u001b[0m\n\u001b[1;32m    521\u001b[0m \u001b[38;5;250m\u001b[39m\u001b[38;5;124;03m\"\"\"\u001b[39;00m\n\u001b[1;32m    522\u001b[0m \u001b[38;5;124;03mSend a command and parse the response\u001b[39;00m\n\u001b[1;32m    523\u001b[0m \u001b[38;5;124;03m\"\"\"\u001b[39;00m\n\u001b[1;32m    524\u001b[0m conn\u001b[38;5;241m.\u001b[39msend_command(\u001b[38;5;241m*\u001b[39margs)\n\u001b[0;32m--> 525\u001b[0m \u001b[38;5;28;01mreturn\u001b[39;00m \u001b[38;5;28;43mself\u001b[39;49m\u001b[38;5;241;43m.\u001b[39;49m\u001b[43mparse_response\u001b[49m\u001b[43m(\u001b[49m\u001b[43mconn\u001b[49m\u001b[43m,\u001b[49m\u001b[43m \u001b[49m\u001b[43mcommand_name\u001b[49m\u001b[43m,\u001b[49m\u001b[43m \u001b[49m\u001b[38;5;241;43m*\u001b[39;49m\u001b[38;5;241;43m*\u001b[39;49m\u001b[43moptions\u001b[49m\u001b[43m)\u001b[49m\n",
      "File \u001b[0;32m~/Desktop/stRedisRAG/stredis/lib/python3.12/site-packages/redis/client.py:565\u001b[0m, in \u001b[0;36mRedis.parse_response\u001b[0;34m(self, connection, command_name, **options)\u001b[0m\n\u001b[1;32m    563\u001b[0m         options\u001b[38;5;241m.\u001b[39mpop(NEVER_DECODE)\n\u001b[1;32m    564\u001b[0m     \u001b[38;5;28;01melse\u001b[39;00m:\n\u001b[0;32m--> 565\u001b[0m         response \u001b[38;5;241m=\u001b[39m \u001b[43mconnection\u001b[49m\u001b[38;5;241;43m.\u001b[39;49m\u001b[43mread_response\u001b[49m\u001b[43m(\u001b[49m\u001b[43m)\u001b[49m\n\u001b[1;32m    566\u001b[0m \u001b[38;5;28;01mexcept\u001b[39;00m ResponseError:\n\u001b[1;32m    567\u001b[0m     \u001b[38;5;28;01mif\u001b[39;00m EMPTY_RESPONSE \u001b[38;5;129;01min\u001b[39;00m options:\n",
      "File \u001b[0;32m~/Desktop/stRedisRAG/stredis/lib/python3.12/site-packages/redis/connection.py:536\u001b[0m, in \u001b[0;36mAbstractConnection.read_response\u001b[0;34m(self, disable_decoding, disconnect_on_error, push_request)\u001b[0m\n\u001b[1;32m    534\u001b[0m \u001b[38;5;28;01mif\u001b[39;00m \u001b[38;5;28misinstance\u001b[39m(response, ResponseError):\n\u001b[1;32m    535\u001b[0m     \u001b[38;5;28;01mtry\u001b[39;00m:\n\u001b[0;32m--> 536\u001b[0m         \u001b[38;5;28;01mraise\u001b[39;00m response\n\u001b[1;32m    537\u001b[0m     \u001b[38;5;28;01mfinally\u001b[39;00m:\n\u001b[1;32m    538\u001b[0m         \u001b[38;5;28;01mdel\u001b[39;00m response  \u001b[38;5;66;03m# avoid creating ref cycles\u001b[39;00m\n",
      "\u001b[0;31mResponseError\u001b[0m: WRONGTYPE Operation against a key holding the wrong kind of value"
     ]
    }
   ],
   "source": [
    "\n",
    "import redis\n",
    "\n",
    "# Conexión a Redis\n",
    "r = redis.Redis(host='localhost', port=6377, db=0)\n",
    "\n",
    "# Usando SCAN para obtener todas las claves\n",
    "cursor = '0'\n",
    "while cursor != 0:\n",
    "    cursor, keys = r.scan(cursor=cursor)\n",
    "    for key in keys:\n",
    "        value = r.get(key)\n",
    "        print(f\"Clave: {key}, Valor: {value}\")\n"
   ]
  },
  {
   "cell_type": "code",
   "execution_count": null,
   "metadata": {},
   "outputs": [],
   "source": [
    "import redis\n",
    "\n",
    "# Conexión a Redis\n",
    "r = redis.Redis(host='localhost', port=6377, db=0)\n",
    "\n",
    "# Usando SCAN para obtener todas las claves\n",
    "cursor = '0'\n",
    "while cursor != '0':\n",
    "    cursor, keys = r.scan(cursor=cursor)\n",
    "    for key in keys:\n",
    "        value = r.get(key)\n",
    "        print(f\"Clave: {key.decode('utf-8')}, Valor: {value.decode('utf-8')}\")"
   ]
  },
  {
   "cell_type": "code",
   "execution_count": 30,
   "metadata": {},
   "outputs": [
    {
     "data": {
      "text/plain": [
       "(26,\n",
       " [b'2024-08-19:DB_BRUKINSA:Col_Zanubrutinib_17_content',\n",
       "  b'PARKINSON:UPTODATE:2024_0_content',\n",
       "  b'2024-08-19:DB_BRUKINSA:Col_Zanubrutinib_8_content',\n",
       "  b'2024-08-19:DB_BRUKINSA:Col_Zanubrutinib_14_content',\n",
       "  b'mi_hash',\n",
       "  b'2024-08-19:DB_BRUKINSA:Col_Zanubrutinib_12_content',\n",
       "  b'2024-08-17:DB_EPI2:Col_EPI2',\n",
       "  b'2024-08-19:DB_BRUKINSA:Col_Zanubrutinib_6_content',\n",
       "  b'PARKINSON:UPTODATE:2024_1_role',\n",
       "  b'PARKINSON:UPTODATE:2024_0_role'])"
      ]
     },
     "execution_count": 30,
     "metadata": {},
     "output_type": "execute_result"
    }
   ],
   "source": [
    "r.scan(0)"
   ]
  },
  {
   "cell_type": "code",
   "execution_count": 47,
   "metadata": {},
   "outputs": [
    {
     "name": "stdout",
     "output_type": "stream",
     "text": [
      "2024-08-17:DB_EPI2:Col_EPI2\n",
      "2024-08-18:DB_Cell:Col_CellSignalling\n",
      "2024-08-19:DB_BRUKINSA:Col_Zanubrutinib_0_content\n",
      "2024-08-19:DB_BRUKINSA:Col_Zanubrutinib_10_content\n",
      "2024-08-19:DB_BRUKINSA:Col_Zanubrutinib_11_content\n",
      "2024-08-19:DB_BRUKINSA:Col_Zanubrutinib_12_content\n",
      "2024-08-19:DB_BRUKINSA:Col_Zanubrutinib_13_content\n",
      "2024-08-19:DB_BRUKINSA:Col_Zanubrutinib_14_content\n",
      "2024-08-19:DB_BRUKINSA:Col_Zanubrutinib_15_content\n",
      "2024-08-19:DB_BRUKINSA:Col_Zanubrutinib_16_content\n",
      "2024-08-19:DB_BRUKINSA:Col_Zanubrutinib_17_content\n",
      "2024-08-19:DB_BRUKINSA:Col_Zanubrutinib_1_content\n",
      "2024-08-19:DB_BRUKINSA:Col_Zanubrutinib_2_content\n",
      "2024-08-19:DB_BRUKINSA:Col_Zanubrutinib_3_content\n",
      "2024-08-19:DB_BRUKINSA:Col_Zanubrutinib_4_content\n",
      "2024-08-19:DB_BRUKINSA:Col_Zanubrutinib_5_content\n",
      "2024-08-19:DB_BRUKINSA:Col_Zanubrutinib_6_content\n",
      "2024-08-19:DB_BRUKINSA:Col_Zanubrutinib_7_content\n",
      "2024-08-19:DB_BRUKINSA:Col_Zanubrutinib_8_content\n",
      "2024-08-19:DB_BRUKINSA:Col_Zanubrutinib_9_content\n",
      "PARKINSON:UPTODATE:2024_0_content\n",
      "PARKINSON:UPTODATE:2024_0_role\n",
      "PARKINSON:UPTODATE:2024_1_content\n",
      "PARKINSON:UPTODATE:2024_1_role\n",
      "foo\n",
      "mi_clave\n",
      "mi_hash\n"
     ]
    }
   ],
   "source": [
    "\n",
    "import redis\n",
    "\n",
    "# Conexión a Redis\n",
    "r = redis.Redis(host='localhost', port=6377, db=0)\n",
    "\n",
    "# Obtener todas las claves que coincidan con un patrón\n",
    "keys = r.keys('*')  # Obtiene todas las claves\n",
    "\n",
    "keys.sort()\n",
    "\n",
    "# Imprimir todas las claves\n",
    "for key in keys:\n",
    "    print(key.decode('utf-8'))\n"
   ]
  },
  {
   "cell_type": "code",
   "execution_count": 46,
   "metadata": {},
   "outputs": [
    {
     "name": "stdout",
     "output_type": "stream",
     "text": [
      "[b'2024-08-19:DB_BRUKINSA:Col_Zanubrutinib_17_content', b'PARKINSON:UPTODATE:2024_0_content', b'2024-08-19:DB_BRUKINSA:Col_Zanubrutinib_8_content', b'2024-08-19:DB_BRUKINSA:Col_Zanubrutinib_14_content', b'2024-08-19:DB_BRUKINSA:Col_Zanubrutinib_1_content', b'2024-08-19:DB_BRUKINSA:Col_Zanubrutinib_4_content', b'mi_hash', b'2024-08-19:DB_BRUKINSA:Col_Zanubrutinib_12_content', b'2024-08-19:DB_BRUKINSA:Col_Zanubrutinib_2_content', b'2024-08-19:DB_BRUKINSA:Col_Zanubrutinib_9_content', b'2024-08-19:DB_BRUKINSA:Col_Zanubrutinib_11_content', b'PARKINSON:UPTODATE:2024_1_role', b'PARKINSON:UPTODATE:2024_0_role', b'foo', b'2024-08-18:DB_Cell:Col_CellSignalling', b'2024-08-19:DB_BRUKINSA:Col_Zanubrutinib_13_content', b'2024-08-19:DB_BRUKINSA:Col_Zanubrutinib_0_content', b'2024-08-19:DB_BRUKINSA:Col_Zanubrutinib_3_content', b'2024-08-19:DB_BRUKINSA:Col_Zanubrutinib_10_content', b'2024-08-17:DB_EPI2:Col_EPI2', b'2024-08-19:DB_BRUKINSA:Col_Zanubrutinib_15_content', b'2024-08-19:DB_BRUKINSA:Col_Zanubrutinib_7_content', b'PARKINSON:UPTODATE:2024_1_content', b'mi_clave', b'2024-08-19:DB_BRUKINSA:Col_Zanubrutinib_6_content', b'2024-08-19:DB_BRUKINSA:Col_Zanubrutinib_16_content', b'2024-08-19:DB_BRUKINSA:Col_Zanubrutinib_5_content']\n"
     ]
    }
   ],
   "source": [
    "print(r.keys())"
   ]
  }
 ],
 "metadata": {
  "kernelspec": {
   "display_name": "stredis",
   "language": "python",
   "name": "python3"
  },
  "language_info": {
   "codemirror_mode": {
    "name": "ipython",
    "version": 3
   },
   "file_extension": ".py",
   "mimetype": "text/x-python",
   "name": "python",
   "nbconvert_exporter": "python",
   "pygments_lexer": "ipython3",
   "version": "3.12.4"
  }
 },
 "nbformat": 4,
 "nbformat_minor": 2
}
